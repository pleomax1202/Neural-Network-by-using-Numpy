{
 "cells": [
  {
   "cell_type": "code",
   "execution_count": 2,
   "metadata": {},
   "outputs": [
    {
     "name": "stderr",
     "output_type": "stream",
     "text": [
      "d:\\python\\python36\\lib\\site-packages\\numpy\\core\\__init__.py:29: UserWarning: loaded more than 1 DLL from .libs:\n",
      "d:\\python\\python36\\lib\\site-packages\\numpy\\.libs\\libopenblas.PYQHXLVVQ7VESDPUVUADXEVJOBGHJPAY.gfortran-win_amd64.dll\n",
      "d:\\python\\python36\\lib\\site-packages\\numpy\\.libs\\libopenblas.TXA6YQSD3GCQQC22GEQ54J2UDCXDXHWN.gfortran-win_amd64.dll\n",
      "  stacklevel=1)\n"
     ]
    }
   ],
   "source": [
    "import numpy as np\n",
    "import pandas as pd\n",
    "import random"
   ]
  },
  {
   "cell_type": "code",
   "execution_count": 71,
   "metadata": {},
   "outputs": [],
   "source": [
    "class neu:\n",
    "    def __init__(self):\n",
    "        self.inputnum = 6\n",
    "        self.hidden1num = 5\n",
    "        self.outputnum = 1\n",
    "\n",
    "        self.lr = 0.0001\n",
    "\n",
    "        self.w1 = []\n",
    "        self.b1 = []\n",
    "        self.hidden1fp = []\n",
    "        self.hidden1op = []\n",
    "        self.pos_exp = []\n",
    "        self.minu_exp = []\n",
    "\n",
    "        self.w2 = []\n",
    "        self.outputop = []\n",
    "        self.delta_q = []\n",
    "\n",
    "        self.initial()\n",
    "        \n",
    "    def initial(self):\n",
    "        self.w1 = np.random.uniform(-1, 1, [self.inputnum, self.hidden1num])\n",
    "        self.b1 = np.random.uniform(-1, 1, self.hidden1num)\n",
    "        self.pos_exp = 0\n",
    "        self.minu_exp = 0\n",
    "        \n",
    "        for i in range(self.hidden1num):\n",
    "            self.hidden1op.append(0)\n",
    "            self.hidden1fp.append(0)\n",
    "            self.delta_q.append(0)\n",
    "        \n",
    "        self.w2 = np.random.uniform(-1, 1, [self.outputnum, self.hidden1num])\n",
    "        for i in range(self.outputnum):\n",
    "            self.outputop.append(0)\n",
    "    \n",
    "    def forward(self, input_val):\n",
    "        for i in range(self.hidden1num):\n",
    "            temp = 0\n",
    "            for j in range(self.inputnum):\n",
    "                temp = temp + input_val[j] * self.w1[j][i]\n",
    "            self.hidden1fp[i] = temp + self.b1[i]\n",
    "            self.pos_exp = np.exp(self.hidden1fp[i]) \n",
    "            self.minu_exp = np.exp(-self.hidden1fp[i])\n",
    "            self.hidden1op[i] = (self.pos_exp - self.minu_exp)/(self.pos_exp + self.minu_exp)\n",
    "        \n",
    "        for i in range(self.outputnum):\n",
    "            temp = 0\n",
    "            for j in range(self.hidden1num):\n",
    "                temp = temp + self.hidden1fp[j] * self.w2[i][j]\n",
    "            self.outputop[i] = temp\n",
    "    \n",
    "    def backward(self, input_val, target):\n",
    "        w2_temp = self.w2\n",
    "        w1_temp = self.w1\n",
    "     \n",
    "        error = []\n",
    "        for i in range(self.outputnum):\n",
    "            error.append(target[i] - self.outputop[i])\n",
    "        \n",
    "        print(error)\n",
    "        for i in range(self.outputnum):\n",
    "            for j in range(self.hidden1num):\n",
    "                self.w2[i][j] = self.w2[i][j] + self.lr * error[i] * self.hidden1op[j]\n",
    "        \n",
    "        for i in range(self.outputnum):\n",
    "            for j in range(self.hidden1num):\n",
    "                self.delta_q[j] = self.delta_q[j] + error[i] * w2_temp[i][j] * 4 / (self.pos_exp + self.minu_exp)**2\n",
    "                \n",
    "        for i in range(self.hidden1num):\n",
    "            self.b1[i] = self.b1[i] + self.lr * self.delta_q[i]\n",
    "        \n",
    "        for i in range(self.hidden1num):\n",
    "            for j in range(self.inputnum):\n",
    "                self.w1[j][i] = self.w1[j][i] + self.lr * self.delta_q[i] * input_val[j]"
   ]
  },
  {
   "cell_type": "markdown",
   "metadata": {},
   "source": [
    "# Training"
   ]
  },
  {
   "cell_type": "code",
   "execution_count": null,
   "metadata": {},
   "outputs": [],
   "source": [
    "epcoh = 1000\n",
    "neu = neu()\n",
    "\n",
    "for i in range(epcoh):\n",
    "    for j in range(len(df)):\n",
    "        neu.forward(df.iloc[j, :])\n",
    "        neu.backward(df.iloc[j, :], target[j])"
   ]
  },
  {
   "cell_type": "markdown",
   "metadata": {},
   "source": [
    "# Predict"
   ]
  },
  {
   "cell_type": "code",
   "execution_count": 78,
   "metadata": {},
   "outputs": [
    {
     "name": "stdout",
     "output_type": "stream",
     "text": [
      "[0.1923259358454346]\n"
     ]
    }
   ],
   "source": [
    "neu.forward(df.iloc[0, :])\n",
    "print(neu.outputop)"
   ]
  }
 ],
 "metadata": {
  "kernelspec": {
   "display_name": "Python 3",
   "language": "python",
   "name": "python3"
  },
  "language_info": {
   "codemirror_mode": {
    "name": "ipython",
    "version": 3
   },
   "file_extension": ".py",
   "mimetype": "text/x-python",
   "name": "python",
   "nbconvert_exporter": "python",
   "pygments_lexer": "ipython3",
   "version": "3.6.7"
  }
 },
 "nbformat": 4,
 "nbformat_minor": 2
}
